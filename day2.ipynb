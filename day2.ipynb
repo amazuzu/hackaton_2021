{
  "nbformat": 4,
  "nbformat_minor": 0,
  "metadata": {
    "colab": {
      "name": "day2.ipynb",
      "provenance": [],
      "collapsed_sections": [],
      "authorship_tag": "ABX9TyNykKDQqXAtw6jJEs50bp0o",
      "include_colab_link": true
    },
    "kernelspec": {
      "name": "python3",
      "display_name": "Python 3"
    },
    "language_info": {
      "name": "python"
    }
  },
  "cells": [
    {
      "cell_type": "markdown",
      "metadata": {
        "id": "view-in-github",
        "colab_type": "text"
      },
      "source": [
        "<a href=\"https://colab.research.google.com/github/amazuzu/hackaton_2021/blob/master/day2.ipynb\" target=\"_parent\"><img src=\"https://colab.research.google.com/assets/colab-badge.svg\" alt=\"Open In Colab\"/></a>"
      ]
    },
    {
      "cell_type": "markdown",
      "metadata": {
        "id": "gzVmnByGVhLk"
      },
      "source": [
        "day 2 run"
      ]
    },
    {
      "cell_type": "code",
      "metadata": {
        "colab": {
          "base_uri": "https://localhost:8080/"
        },
        "id": "9jmAk3CDkYEl",
        "outputId": "cae7c15c-6f48-47bd-ac7f-73a8a6a19bbd"
      },
      "source": [
        "%unload_ext google.colab.data_table"
      ],
      "execution_count": null,
      "outputs": [
        {
          "output_type": "stream",
          "name": "stdout",
          "text": [
            "The google.colab.data_table extension is not loaded.\n"
          ]
        }
      ]
    },
    {
      "cell_type": "code",
      "metadata": {
        "colab": {
          "base_uri": "https://localhost:8080/"
        },
        "id": "mYadq2QaU_vJ",
        "outputId": "42fa6afe-f89f-4ce0-9d1b-0aff41fd1f78"
      },
      "source": [
        "from sklearn.datasets import fetch_20newsgroups\n",
        "twenty_train = fetch_20newsgroups(subset='train', shuffle=True)\n",
        "twenty_test = fetch_20newsgroups(subset='test', shuffle=True)"
      ],
      "execution_count": null,
      "outputs": [
        {
          "output_type": "stream",
          "name": "stderr",
          "text": [
            "Downloading 20news dataset. This may take a few minutes.\n",
            "Downloading dataset from https://ndownloader.figshare.com/files/5975967 (14 MB)\n"
          ]
        }
      ]
    },
    {
      "cell_type": "code",
      "metadata": {
        "colab": {
          "base_uri": "https://localhost:8080/"
        },
        "id": "croxn3RdVOsV",
        "outputId": "40db27fa-5bb1-4d07-9722-12972c3012b9"
      },
      "source": [
        "print(twenty_train.target_names)\n",
        "print(twenty_test.data[1])\n",
        "for i,a in enumerate(twenty_train.target_names):\n",
        "   print(f'{a} is {i}')"
      ],
      "execution_count": null,
      "outputs": [
        {
          "output_type": "stream",
          "name": "stdout",
          "text": [
            "['alt.atheism', 'comp.graphics', 'comp.os.ms-windows.misc', 'comp.sys.ibm.pc.hardware', 'comp.sys.mac.hardware', 'comp.windows.x', 'misc.forsale', 'rec.autos', 'rec.motorcycles', 'rec.sport.baseball', 'rec.sport.hockey', 'sci.crypt', 'sci.electronics', 'sci.med', 'sci.space', 'soc.religion.christian', 'talk.politics.guns', 'talk.politics.mideast', 'talk.politics.misc', 'talk.religion.misc']\n",
            "From: Rick Miller <rick@ee.uwm.edu>\n",
            "Subject: X-Face?\n",
            "Organization: Just me.\n",
            "Lines: 17\n",
            "Distribution: world\n",
            "NNTP-Posting-Host: 129.89.2.33\n",
            "Summary: Go ahead... swamp me.  <EEP!>\n",
            "\n",
            "I'm not familiar at all with the format of these \"X-Face:\" thingies, but\n",
            "after seeing them in some folks' headers, I've *got* to *see* them (and\n",
            "maybe make one of my own)!\n",
            "\n",
            "I've got \"dpg-view\" on my Linux box (which displays \"uncompressed X-Faces\")\n",
            "and I've managed to compile [un]compface too... but now that I'm *looking*\n",
            "for them, I can't seem to find any X-Face:'s in anyones news headers!  :-(\n",
            "\n",
            "Could you, would you, please send me your \"X-Face:\" header?\n",
            "\n",
            "I *know* I'll probably get a little swamped, but I can handle it.\n",
            "\n",
            "\t...I hope.\n",
            "\n",
            "Rick Miller  <rick@ee.uwm.edu> | <ricxjo@discus.mil.wi.us>   Ricxjo Muelisto\n",
            "Send a postcard, get one back! | Enposxtigu bildkarton kaj vi ricevos alion!\n",
            "          RICK MILLER // 16203 WOODS // MUSKEGO, WIS. 53150 // USA\n",
            "\n",
            "alt.atheism is 0\n",
            "comp.graphics is 1\n",
            "comp.os.ms-windows.misc is 2\n",
            "comp.sys.ibm.pc.hardware is 3\n",
            "comp.sys.mac.hardware is 4\n",
            "comp.windows.x is 5\n",
            "misc.forsale is 6\n",
            "rec.autos is 7\n",
            "rec.motorcycles is 8\n",
            "rec.sport.baseball is 9\n",
            "rec.sport.hockey is 10\n",
            "sci.crypt is 11\n",
            "sci.electronics is 12\n",
            "sci.med is 13\n",
            "sci.space is 14\n",
            "soc.religion.christian is 15\n",
            "talk.politics.guns is 16\n",
            "talk.politics.mideast is 17\n",
            "talk.politics.misc is 18\n",
            "talk.religion.misc is 19\n"
          ]
        }
      ]
    },
    {
      "cell_type": "markdown",
      "metadata": {
        "id": "pkcwiWmlXrFf"
      },
      "source": [
        "extracting features from text files"
      ]
    },
    {
      "cell_type": "code",
      "metadata": {
        "colab": {
          "base_uri": "https://localhost:8080/"
        },
        "id": "u-JbdmMUXuSz",
        "outputId": "24a8abd7-d7dc-496f-8844-d50c17833a8e"
      },
      "source": [
        "from sklearn.feature_extraction.text import CountVectorizer\n",
        "count_vect = CountVectorizer()\n",
        "X_train_counts = count_vect.fit_transform(twenty_train.data)\n",
        "X_train_counts.shape"
      ],
      "execution_count": null,
      "outputs": [
        {
          "output_type": "execute_result",
          "data": {
            "text/plain": [
              "(11314, 130107)"
            ]
          },
          "metadata": {},
          "execution_count": 4
        }
      ]
    },
    {
      "cell_type": "code",
      "metadata": {
        "id": "ysMwqhtkizJm"
      },
      "source": [
        "# X_train_counts"
      ],
      "execution_count": null,
      "outputs": []
    },
    {
      "cell_type": "code",
      "metadata": {
        "colab": {
          "base_uri": "https://localhost:8080/"
        },
        "id": "o6lnsmBeXviW",
        "outputId": "b98d5203-60a0-40a6-a444-e202be9fa8b9"
      },
      "source": [
        "from sklearn.feature_extraction.text import TfidfTransformer\n",
        "tfidf_transformer = TfidfTransformer()\n",
        "X_train_tfidf = tfidf_transformer.fit_transform(X_train_counts)\n",
        "X_train_tfidf.shape"
      ],
      "execution_count": null,
      "outputs": [
        {
          "output_type": "execute_result",
          "data": {
            "text/plain": [
              "(11314, 130107)"
            ]
          },
          "metadata": {},
          "execution_count": 5
        }
      ]
    },
    {
      "cell_type": "markdown",
      "metadata": {
        "id": "vLG6six7ZWSs"
      },
      "source": [
        "running ML algorithms"
      ]
    },
    {
      "cell_type": "code",
      "metadata": {
        "colab": {
          "base_uri": "https://localhost:8080/"
        },
        "id": "kHgpKN9jZ72k",
        "outputId": "486f3fc4-2740-44c6-df93-676be72698bb"
      },
      "source": [
        "from sklearn.naive_bayes import MultinomialNB\n",
        "clf = MultinomialNB().fit(X_train_tfidf, twenty_train.target)\n",
        "print(clf)"
      ],
      "execution_count": null,
      "outputs": [
        {
          "output_type": "stream",
          "name": "stdout",
          "text": [
            "MultinomialNB(alpha=1.0, class_prior=None, fit_prior=True)\n"
          ]
        }
      ]
    },
    {
      "cell_type": "markdown",
      "metadata": {
        "id": "tI6psxqYfMZ3"
      },
      "source": [
        "make via pipeline\n"
      ]
    },
    {
      "cell_type": "markdown",
      "metadata": {
        "id": "0zYvgwCqbTmx"
      },
      "source": [
        "now lets measure performance"
      ]
    },
    {
      "cell_type": "code",
      "metadata": {
        "id": "na4J2NVOfOht",
        "colab": {
          "base_uri": "https://localhost:8080/"
        },
        "outputId": "2935e132-8988-417e-de5c-43bd1ebdaf45"
      },
      "source": [
        "from sklearn.pipeline import Pipeline\n",
        "import numpy as np\n",
        "\n",
        "text_clf = Pipeline([('vect', CountVectorizer()), ('tfidf', TfidfTransformer()), ('clf', MultinomialNB())])\n",
        "text_clf = text_clf.fit(twenty_train.data, twenty_train.target)\n",
        "\n",
        "predicted = text_clf.predict(twenty_test.data)\n",
        "np.mean(predicted == twenty_test.target)"
      ],
      "execution_count": null,
      "outputs": [
        {
          "output_type": "execute_result",
          "data": {
            "text/plain": [
              "0.7738980350504514"
            ]
          },
          "metadata": {},
          "execution_count": 7
        }
      ]
    },
    {
      "cell_type": "code",
      "metadata": {
        "colab": {
          "base_uri": "https://localhost:8080/"
        },
        "id": "_plKIpIYZ13M",
        "outputId": "31523c6d-4adc-4388-da41-e584751f9513"
      },
      "source": [
        "\n"
      ],
      "execution_count": null,
      "outputs": [
        {
          "output_type": "execute_result",
          "data": {
            "text/plain": [
              "0.7738980350504514"
            ]
          },
          "metadata": {},
          "execution_count": 10
        }
      ]
    },
    {
      "cell_type": "code",
      "metadata": {
        "colab": {
          "base_uri": "https://localhost:8080/"
        },
        "id": "7hO-cjE7aGgb",
        "outputId": "2c96d69f-fc35-41a0-b45d-bcfc33ac034c"
      },
      "source": [
        "print(text_clf)"
      ],
      "execution_count": null,
      "outputs": [
        {
          "output_type": "stream",
          "name": "stdout",
          "text": [
            "Pipeline(memory=None,\n",
            "         steps=[('vect',\n",
            "                 CountVectorizer(analyzer='word', binary=False,\n",
            "                                 decode_error='strict',\n",
            "                                 dtype=<class 'numpy.int64'>, encoding='utf-8',\n",
            "                                 input='content', lowercase=True, max_df=1.0,\n",
            "                                 max_features=None, min_df=1,\n",
            "                                 ngram_range=(1, 1), preprocessor=None,\n",
            "                                 stop_words=None, strip_accents=None,\n",
            "                                 token_pattern='(?u)\\\\b\\\\w\\\\w+\\\\b',\n",
            "                                 tokenizer=None, vocabulary=None)),\n",
            "                ('tfidf',\n",
            "                 TfidfTransformer(norm='l2', smooth_idf=True,\n",
            "                                  sublinear_tf=False, use_idf=True)),\n",
            "                ('clf',\n",
            "                 MultinomialNB(alpha=1.0, class_prior=None, fit_prior=True))],\n",
            "         verbose=False)\n"
          ]
        }
      ]
    },
    {
      "cell_type": "code",
      "metadata": {
        "colab": {
          "base_uri": "https://localhost:8080/"
        },
        "id": "B2yFewGAf69M",
        "outputId": "2238f02c-9a7d-4a86-cac8-d5ababc3e594"
      },
      "source": [
        "print(twenty_train.data[14])"
      ],
      "execution_count": null,
      "outputs": [
        {
          "output_type": "stream",
          "name": "stdout",
          "text": [
            "From: jllee@acsu.buffalo.edu (Johnny L Lee)\n",
            "Subject: RE:  == MOVING SALE ===\n",
            "Summary: RE:  === MOVING SALE ===\n",
            "Organization: UB\n",
            "Lines: 44\n",
            "Nntp-Posting-Host: lictor.acsu.buffalo.edu\n",
            "\n",
            "Reduced Prices! \n",
            "I have a list of things forsale on behalf of my brother, who's moving (moved\n",
            "already)\n",
            "\n",
            "\t\t\t\t\t\t\t\tOffer:\n",
            "1) Black and Decker Duster Plus (Portable Hand Vaccum)\t\n",
            " \tpurchased for $32, \t\t\t\t\t  $12\n",
            "\n",
            "2) SR-1000 Dual Cassette Portable Player, AM/FM\n",
            "5-Band graphics Equalizer, high speed dubing, Duo \n",
            "Tape.Tape deck A, seems to have lost treble sound. \n",
            "But, I bet  it's fixable.\n",
            "\tpurchased for $80\t\t\t\t\t  $25\n",
            "\n",
            "3)Monolux Zoom MicroScope, up to 1200X magnification\n",
            "Made in Japan, includes case and accessories\n",
            "\tpurchased for $50\t\t\t\t\t  $20\n",
            "\n",
            "4)Sunbeam 1400 Hair Dryer, the dryer you put your \n",
            "head under/into. You know, the ones you see in the salons.\n",
            "(Don't ask me why my bro had it)\n",
            "\tpurchased for $60\t\t\t\t          $24\n",
            "\n",
            "5)Everylast Speed Bag, all leather. Brand new, never \n",
            "used\t\t\t\t\t\t\t\t  $10\n",
            "\n",
            "6)Osterizer Pusle Matic Blender, with 10 speeds \n",
            "and a cookbook, 5 years old\t\t\t\t\t  $10\n",
            "\tpurchased for $50\n",
            "\n",
            "8)Binolux Binoculars . 7x35, extra wide angle\n",
            "525ft. at 1000yds. with case. very new.\t\t                  $20\n",
            "\n",
            "9)Proctor and Silex Spray,Steam and Dry Iron.\n",
            "very new.\t\t\t\t\t\t\t  $10\n",
            "\n",
            "\n",
            "Any questions, contact me thru e-mail and I will reply expeditously\n",
            "And always, S+H are not included, so please consider this.\n",
            "\n",
            "And lastly, I'm a very reasonable.Very Reasonable.\n",
            "\n",
            "\t\t\t\t\tThanks,\n",
            "\t\t\t\t\t\tJohn\n",
            "\n"
          ]
        }
      ]
    },
    {
      "cell_type": "code",
      "metadata": {
        "colab": {
          "base_uri": "https://localhost:8080/"
        },
        "id": "um3GTYQAlw2S",
        "outputId": "b1cf2b2a-ec7f-4642-848c-8cb06d23ca58"
      },
      "source": [
        "print(twenty_train.target_names[predicted[14]])"
      ],
      "execution_count": null,
      "outputs": [
        {
          "output_type": "stream",
          "name": "stdout",
          "text": [
            "soc.religion.christian\n"
          ]
        }
      ]
    },
    {
      "cell_type": "markdown",
      "metadata": {
        "id": "0p4l4JT0XA3z"
      },
      "source": [
        "II Support Vector Machines"
      ]
    },
    {
      "cell_type": "code",
      "metadata": {
        "id": "BXx2Ry5dl43e"
      },
      "source": [
        "from sklearn.linear_model import SGDClassifier"
      ],
      "execution_count": null,
      "outputs": []
    },
    {
      "cell_type": "code",
      "metadata": {
        "id": "RvxYdFbMXGVj"
      },
      "source": [
        "text_clf_svm = Pipeline([('vect', CountVectorizer()),\n",
        "...                      ('tfidf', TfidfTransformer()),\n",
        "...                      ('clf-svm', SGDClassifier(loss='hinge', penalty='l2',\n",
        "...                                            alpha=1e-3, n_iter_no_change=5, random_state=42)),\n",
        "... ])"
      ],
      "execution_count": null,
      "outputs": []
    },
    {
      "cell_type": "code",
      "metadata": {
        "id": "RR5pWmD9XKka"
      },
      "source": [
        " _ = text_clf_svm.fit(twenty_train.data, twenty_train.target)"
      ],
      "execution_count": null,
      "outputs": []
    },
    {
      "cell_type": "code",
      "metadata": {
        "id": "nXtCJPa_b_Ij"
      },
      "source": [
        "predicted_svm = text_clf_svm.predict(twenty_test.data)"
      ],
      "execution_count": null,
      "outputs": []
    },
    {
      "cell_type": "code",
      "metadata": {
        "colab": {
          "base_uri": "https://localhost:8080/"
        },
        "id": "jJeSYDVncEII",
        "outputId": "4e4e6cb3-65ba-48e1-ba13-ebe85b1f7182"
      },
      "source": [
        "np.mean(predicted_svm == twenty_test.target)"
      ],
      "execution_count": null,
      "outputs": [
        {
          "output_type": "execute_result",
          "data": {
            "text/plain": [
              "0.8240839086563994"
            ]
          },
          "metadata": {},
          "execution_count": 12
        }
      ]
    },
    {
      "cell_type": "code",
      "metadata": {
        "colab": {
          "base_uri": "https://localhost:8080/"
        },
        "id": "bR0ivSzHcHC8",
        "outputId": "7d2789ed-a8ac-4e40-d0c5-4c0cd16f86f6"
      },
      "source": [
        "print(predicted_svm[23])"
      ],
      "execution_count": null,
      "outputs": [
        {
          "output_type": "stream",
          "name": "stdout",
          "text": [
            "14\n"
          ]
        }
      ]
    },
    {
      "cell_type": "markdown",
      "metadata": {
        "id": "ElRLYrchgDig"
      },
      "source": [
        "**Grid Search**"
      ]
    },
    {
      "cell_type": "code",
      "metadata": {
        "id": "qwsTmn1NdHNG",
        "colab": {
          "base_uri": "https://localhost:8080/"
        },
        "outputId": "5d9f57ac-b099-433e-ecc7-188abff64e09"
      },
      "source": [
        "from sklearn.model_selection import GridSearchCV\n",
        "parameters = {'vect__ngram_range': [(1, 1), (1, 2)],\n",
        "               'tfidf__use_idf': (True, False),\n",
        "               'clf__alpha': (1e-2, 1e-3),}\n",
        "gs_clf = GridSearchCV(text_clf, parameters, n_jobs=-1)\n",
        "gs_clf = gs_clf.fit(twenty_train.data, twenty_train.target)"
      ],
      "execution_count": null,
      "outputs": [
        {
          "output_type": "stream",
          "name": "stderr",
          "text": [
            "/usr/local/lib/python3.7/dist-packages/joblib/externals/loky/process_executor.py:691: UserWarning: A worker stopped while some jobs were given to the executor. This can be caused by a too short worker timeout or by a memory leak.\n",
            "  \"timeout or by a memory leak.\", UserWarning\n"
          ]
        }
      ]
    },
    {
      "cell_type": "code",
      "metadata": {
        "colab": {
          "base_uri": "https://localhost:8080/",
          "height": 181
        },
        "id": "_XyZYdL_i8nT",
        "outputId": "0fa0953c-34a2-4d59-bf6e-522076763fee"
      },
      "source": [
        ""
      ],
      "execution_count": null,
      "outputs": [
        {
          "output_type": "error",
          "ename": "NameError",
          "evalue": "ignored",
          "traceback": [
            "\u001b[0;31m---------------------------------------------------------------------------\u001b[0m",
            "\u001b[0;31mNameError\u001b[0m                                 Traceback (most recent call last)",
            "\u001b[0;32m<ipython-input-25-ca23821459f7>\u001b[0m in \u001b[0;36m<module>\u001b[0;34m()\u001b[0m\n\u001b[0;32m----> 1\u001b[0;31m \u001b[0mgs_clf\u001b[0m \u001b[0;34m=\u001b[0m \u001b[0mGridSearchCV\u001b[0m\u001b[0;34m(\u001b[0m\u001b[0mtext_clf\u001b[0m\u001b[0;34m,\u001b[0m \u001b[0mparameters\u001b[0m\u001b[0;34m,\u001b[0m \u001b[0mn_jobs\u001b[0m\u001b[0;34m=\u001b[0m\u001b[0;34m-\u001b[0m\u001b[0;36m1\u001b[0m\u001b[0;34m)\u001b[0m\u001b[0;34m\u001b[0m\u001b[0;34m\u001b[0m\u001b[0m\n\u001b[0m\u001b[1;32m      2\u001b[0m \u001b[0mgs_clf\u001b[0m \u001b[0;34m=\u001b[0m \u001b[0mgs_clf\u001b[0m\u001b[0;34m.\u001b[0m\u001b[0mfit\u001b[0m\u001b[0;34m(\u001b[0m\u001b[0mtwenty_train\u001b[0m\u001b[0;34m.\u001b[0m\u001b[0mdata\u001b[0m\u001b[0;34m,\u001b[0m \u001b[0mtwenty_train\u001b[0m\u001b[0;34m.\u001b[0m\u001b[0mtarget\u001b[0m\u001b[0;34m)\u001b[0m\u001b[0;34m\u001b[0m\u001b[0;34m\u001b[0m\u001b[0m\n",
            "\u001b[0;31mNameError\u001b[0m: name 'GridSearchCV' is not defined"
          ]
        }
      ]
    },
    {
      "cell_type": "code",
      "metadata": {
        "colab": {
          "base_uri": "https://localhost:8080/"
        },
        "id": "6eAjY4UOjB5u",
        "outputId": "16b3b07f-42ca-4913-d1f7-4edee94aae39"
      },
      "source": [
        "print(gs_clf.best_score_)\n",
        "print(gs_clf.best_params_)"
      ],
      "execution_count": null,
      "outputs": [
        {
          "output_type": "stream",
          "name": "stdout",
          "text": [
            "0.9157684864695698\n",
            "{'clf__alpha': 0.001, 'tfidf__use_idf': True, 'vect__ngram_range': (1, 2)}\n"
          ]
        }
      ]
    },
    {
      "cell_type": "markdown",
      "metadata": {
        "id": "gibUFdEauPUH"
      },
      "source": [
        "Try RandomForestClassifier\n",
        "\n"
      ]
    },
    {
      "cell_type": "code",
      "metadata": {
        "id": "kfrQ40-lldaC"
      },
      "source": [
        ""
      ],
      "execution_count": null,
      "outputs": []
    }
  ]
}